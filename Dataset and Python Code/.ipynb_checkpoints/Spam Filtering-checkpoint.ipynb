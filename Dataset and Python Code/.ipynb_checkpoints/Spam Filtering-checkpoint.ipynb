{
 "cells": [
  {
   "cell_type": "markdown",
   "id": "8ee86f0e-bea4-4e06-aa14-83be8e9f7152",
   "metadata": {},
   "source": [
    "<h1>Spam Filtering</h1>"
   ]
  },
  {
   "cell_type": "markdown",
   "id": "f6d54cc3-2f9c-40aa-9c75-9a8138513298",
   "metadata": {
    "tags": []
   },
   "source": [
    "<h2>Library Imports</h2>"
   ]
  },
  {
   "cell_type": "code",
   "execution_count": 4,
   "id": "84b2a338-e41d-4c96-8a7f-9b13199be2ef",
   "metadata": {
    "tags": []
   },
   "outputs": [
    {
     "name": "stderr",
     "output_type": "stream",
     "text": [
      "[nltk_data] Downloading package omw-1.4 to\n",
      "[nltk_data]     C:\\Users\\amitb\\AppData\\Roaming\\nltk_data...\n",
      "[nltk_data]   Package omw-1.4 is already up-to-date!\n",
      "[nltk_data] Downloading package punkt to\n",
      "[nltk_data]     C:\\Users\\amitb\\AppData\\Roaming\\nltk_data...\n",
      "[nltk_data]   Package punkt is already up-to-date!\n",
      "[nltk_data] Downloading package stopwords to\n",
      "[nltk_data]     C:\\Users\\amitb\\AppData\\Roaming\\nltk_data...\n",
      "[nltk_data]   Package stopwords is already up-to-date!\n"
     ]
    }
   ],
   "source": [
    "#Library for Gaussian Naive Bayes algorithm\n",
    "from sklearn.naive_bayes import GaussianNB \n",
    "#Library for Support Vector Machine algorithm\n",
    "from sklearn import svm\n",
    "#Library for K-Neigbour Classifier algorithm\n",
    "from sklearn.neighbors import KNeighborsClassifier\n",
    "#Library for splitting the data to train and test dataset\n",
    "from sklearn.model_selection import train_test_split\n",
    "#Library for checking accuracy,precisonscore, recall, f1score\n",
    "from sklearn.metrics import accuracy_score, precision_score, recall_score, f1_score, confusion_matrix\n",
    "#Library to count the unique words from the collections of texts\n",
    "from sklearn.feature_extraction.text import CountVectorizer\n",
    "#To remove patterns or links\n",
    "import re\n",
    "import nltk\n",
    "nltk.download('omw-1.4')\n",
    "nltk.download('punkt')\n",
    "nltk.download('stopwords')\n",
    "from nltk.stem import WordNetLemmatizer\n",
    "#For all algebric functions\n",
    "import numpy as np \n",
    "#For data manipulation\n",
    "import pandas as pd\n",
    "#For plotting tables and graphs\n",
    "import matplotlib.pyplot as plt "
   ]
  },
  {
   "cell_type": "markdown",
   "id": "11e7ba79-8d68-4428-bc1d-731ec65bab9d",
   "metadata": {
    "tags": []
   },
   "source": [
    "<h2>Datasets Imports</h2>"
   ]
  },
  {
   "cell_type": "code",
   "execution_count": 5,
   "id": "23e5d414-7620-4687-bacb-62c510db77b2",
   "metadata": {
    "tags": []
   },
   "outputs": [
    {
     "name": "stdout",
     "output_type": "stream",
     "text": [
      "<class 'pandas.core.frame.DataFrame'>\n",
      "RangeIndex: 6046 entries, 0 to 6045\n",
      "Data columns (total 3 columns):\n",
      " #   Column      Non-Null Count  Dtype \n",
      "---  ------      --------------  ----- \n",
      " 0   Unnamed: 0  6046 non-null   int64 \n",
      " 1   Body        6045 non-null   object\n",
      " 2   Label       6046 non-null   int64 \n",
      "dtypes: int64(2), object(1)\n",
      "memory usage: 141.8+ KB\n"
     ]
    }
   ],
   "source": [
    "#Read the data using function of panda library\n",
    "data = pd.read_csv('completeSpamAssassin.csv')\n",
    "data.info()"
   ]
  },
  {
   "cell_type": "markdown",
   "id": "d9e064fe-a3e2-471e-adee-9ceb99c686b2",
   "metadata": {
    "tags": []
   },
   "source": [
    "The datasets has labels 0 and 1 in which 1 is spam mail and 0 means not a spam."
   ]
  },
  {
   "cell_type": "markdown",
   "id": "28dab498-c248-4681-8f76-2e1414066c21",
   "metadata": {
    "tags": []
   },
   "source": [
    "<h2>Data Preperation</h2>"
   ]
  },
  {
   "cell_type": "markdown",
   "id": "dbcfde3e-e031-4e15-919b-25c02e2c8ac7",
   "metadata": {
    "tags": []
   },
   "source": [
    "<h3>Deletion of unwanted columns</h3>"
   ]
  },
  {
   "cell_type": "markdown",
   "id": "0d5510fa-443a-44e3-8d90-c1b7c6557ad3",
   "metadata": {
    "tags": []
   },
   "source": [
    " Here, we will only be using body and label column as body has all the spam <br>and ham mails the other two columns are just numbering therefore we will be removing it."
   ]
  },
  {
   "cell_type": "code",
   "execution_count": 6,
   "id": "09866c42-d94e-4d05-add4-a993c4f92d1d",
   "metadata": {
    "tags": []
   },
   "outputs": [
    {
     "data": {
      "text/html": [
       "<div>\n",
       "<style scoped>\n",
       "    .dataframe tbody tr th:only-of-type {\n",
       "        vertical-align: middle;\n",
       "    }\n",
       "\n",
       "    .dataframe tbody tr th {\n",
       "        vertical-align: top;\n",
       "    }\n",
       "\n",
       "    .dataframe thead th {\n",
       "        text-align: right;\n",
       "    }\n",
       "</style>\n",
       "<table border=\"1\" class=\"dataframe\">\n",
       "  <thead>\n",
       "    <tr style=\"text-align: right;\">\n",
       "      <th></th>\n",
       "      <th>Unnamed: 0</th>\n",
       "      <th>Body</th>\n",
       "      <th>Label</th>\n",
       "    </tr>\n",
       "  </thead>\n",
       "  <tbody>\n",
       "    <tr>\n",
       "      <th>0</th>\n",
       "      <td>0</td>\n",
       "      <td>\\nSave up to 70% on Life Insurance.\\nWhy Spend...</td>\n",
       "      <td>1</td>\n",
       "    </tr>\n",
       "    <tr>\n",
       "      <th>1</th>\n",
       "      <td>1</td>\n",
       "      <td>1) Fight The Risk of Cancer!\\nhttp://www.adcli...</td>\n",
       "      <td>1</td>\n",
       "    </tr>\n",
       "    <tr>\n",
       "      <th>2</th>\n",
       "      <td>2</td>\n",
       "      <td>1) Fight The Risk of Cancer!\\nhttp://www.adcli...</td>\n",
       "      <td>1</td>\n",
       "    </tr>\n",
       "  </tbody>\n",
       "</table>\n",
       "</div>"
      ],
      "text/plain": [
       "   Unnamed: 0                                               Body  Label\n",
       "0           0  \\nSave up to 70% on Life Insurance.\\nWhy Spend...      1\n",
       "1           1  1) Fight The Risk of Cancer!\\nhttp://www.adcli...      1\n",
       "2           2  1) Fight The Risk of Cancer!\\nhttp://www.adcli...      1"
      ]
     },
     "execution_count": 6,
     "metadata": {},
     "output_type": "execute_result"
    }
   ],
   "source": [
    "data.head(3)"
   ]
  },
  {
   "cell_type": "code",
   "execution_count": 7,
   "id": "ca6fea89-f09a-49bc-8ca8-e2d05acb6972",
   "metadata": {
    "tags": []
   },
   "outputs": [],
   "source": [
    "data.drop([\"Unnamed: 0\"],inplace=True,axis=1)"
   ]
  },
  {
   "cell_type": "code",
   "execution_count": 8,
   "id": "2ee49828-92c1-48d5-9be5-d8613cf1cc31",
   "metadata": {
    "tags": []
   },
   "outputs": [
    {
     "data": {
      "text/html": [
       "<div>\n",
       "<style scoped>\n",
       "    .dataframe tbody tr th:only-of-type {\n",
       "        vertical-align: middle;\n",
       "    }\n",
       "\n",
       "    .dataframe tbody tr th {\n",
       "        vertical-align: top;\n",
       "    }\n",
       "\n",
       "    .dataframe thead th {\n",
       "        text-align: right;\n",
       "    }\n",
       "</style>\n",
       "<table border=\"1\" class=\"dataframe\">\n",
       "  <thead>\n",
       "    <tr style=\"text-align: right;\">\n",
       "      <th></th>\n",
       "      <th>Body</th>\n",
       "      <th>Label</th>\n",
       "    </tr>\n",
       "  </thead>\n",
       "  <tbody>\n",
       "    <tr>\n",
       "      <th>0</th>\n",
       "      <td>\\nSave up to 70% on Life Insurance.\\nWhy Spend...</td>\n",
       "      <td>1</td>\n",
       "    </tr>\n",
       "    <tr>\n",
       "      <th>1</th>\n",
       "      <td>1) Fight The Risk of Cancer!\\nhttp://www.adcli...</td>\n",
       "      <td>1</td>\n",
       "    </tr>\n",
       "    <tr>\n",
       "      <th>2</th>\n",
       "      <td>1) Fight The Risk of Cancer!\\nhttp://www.adcli...</td>\n",
       "      <td>1</td>\n",
       "    </tr>\n",
       "  </tbody>\n",
       "</table>\n",
       "</div>"
      ],
      "text/plain": [
       "                                                Body  Label\n",
       "0  \\nSave up to 70% on Life Insurance.\\nWhy Spend...      1\n",
       "1  1) Fight The Risk of Cancer!\\nhttp://www.adcli...      1\n",
       "2  1) Fight The Risk of Cancer!\\nhttp://www.adcli...      1"
      ]
     },
     "execution_count": 8,
     "metadata": {},
     "output_type": "execute_result"
    }
   ],
   "source": [
    "data.head(3)"
   ]
  },
  {
   "cell_type": "markdown",
   "id": "2eb0dfde-ef3c-4d4a-8d3c-4b43aeee5f4f",
   "metadata": {
    "tags": []
   },
   "source": [
    "<h3>Missing value row removal</h3>"
   ]
  },
  {
   "cell_type": "code",
   "execution_count": 11,
   "id": "9b5703b0-c1ba-4d4a-90ac-872a88f11836",
   "metadata": {
    "tags": []
   },
   "outputs": [
    {
     "name": "stdout",
     "output_type": "stream",
     "text": [
      "<class 'pandas.core.frame.DataFrame'>\n",
      "Int64Index: 6045 entries, 0 to 6045\n",
      "Data columns (total 2 columns):\n",
      " #   Column  Non-Null Count  Dtype \n",
      "---  ------  --------------  ----- \n",
      " 0   Body    6045 non-null   object\n",
      " 1   Label   6045 non-null   int64 \n",
      "dtypes: int64(1), object(1)\n",
      "memory usage: 141.7+ KB\n"
     ]
    }
   ],
   "source": [
    "data.info()"
   ]
  },
  {
   "cell_type": "code",
   "execution_count": 12,
   "id": "e4270df6-9619-45b1-a975-cfe1d9fa3c8f",
   "metadata": {
    "tags": []
   },
   "outputs": [
    {
     "name": "stdout",
     "output_type": "stream",
     "text": [
      "<class 'pandas.core.frame.DataFrame'>\n",
      "Int64Index: 6045 entries, 0 to 6045\n",
      "Data columns (total 2 columns):\n",
      " #   Column  Non-Null Count  Dtype \n",
      "---  ------  --------------  ----- \n",
      " 0   Body    6045 non-null   object\n",
      " 1   Label   6045 non-null   int64 \n",
      "dtypes: int64(1), object(1)\n",
      "memory usage: 141.7+ KB\n"
     ]
    }
   ],
   "source": [
    "data.dropna(inplace=True)\n",
    "data.info()"
   ]
  },
  {
   "cell_type": "markdown",
   "id": "df45e754-a4a2-4f64-b1b1-583b75f9dcd6",
   "metadata": {},
   "source": [
    "It seems there is one missing value in a row"
   ]
  },
  {
   "cell_type": "markdown",
   "id": "6641542a-15a9-4f97-b0d1-ecb33916acbe",
   "metadata": {
    "tags": []
   },
   "source": [
    "<h3>Text Cleaning and Preparation</h3>"
   ]
  },
  {
   "cell_type": "markdown",
   "id": "b095ceef-0778-4f64-9fb8-d688ee0f6b27",
   "metadata": {
    "tags": []
   },
   "source": [
    "<h3>Removing Links</h3>"
   ]
  },
  {
   "cell_type": "markdown",
   "id": "c1bda756-2328-48f2-8f98-a70535b463c4",
   "metadata": {},
   "source": [
    "Links are not required for spam filtering as they are not words"
   ]
  },
  {
   "cell_type": "code",
   "execution_count": 13,
   "id": "00ef507b-d122-4905-a0f4-3e4f73dd0a8a",
   "metadata": {
    "tags": []
   },
   "outputs": [
    {
     "data": {
      "text/plain": [
       "\"\\nSave up to 70% on Life Insurance.\\nWhy Spend More Than You Have To?Life Quote Savings\\nEnsuring your \\n      family's financial security is very important. Life Quote Savings makes \\n      buying life insurance simple and affordable. We Provide FREE Access to The \\n      Very Best Companies and The Lowest Rates.Life Quote Savings is FAST, EASY and \\n            SAVES you money! Let us help you get started with the best values in \\n            the country on new coverage. You can SAVE hundreds or even thousands \\n            of dollars by requesting a FREE quote from Lifequote Savings. Our \\n            service will take you less than 5 minutes to complete. Shop and \\n            compare. SAVE up to 70% on all types of Life insurance! Click Here For Your \\n            Free Quote!Protecting your family is the best investment you'll ever \\n          make!\\nIf you are in receipt of this email \\n      in error and/or wish to be removed from our list, PLEASE CLICK HERE AND TYPE REMOVE. If you \\n      reside in any state which prohibits e-mail solicitations for insurance, \\n      please disregard this \\n      email.\\n\""
      ]
     },
     "execution_count": 13,
     "metadata": {},
     "output_type": "execute_result"
    }
   ],
   "source": [
    "dataWithLinks = data[\"Body\"]\n",
    "dataWithoutLinks = [re.sub(r\"http\\S+\", \"\", text) for text in dataWithLinks]\n",
    "dataWithoutLinks[0]"
   ]
  },
  {
   "cell_type": "markdown",
   "id": "47ef7f6e-89a7-442f-8537-9ee77379d68f",
   "metadata": {
    "tags": []
   },
   "source": [
    "<h4>Removing Digits Except Alphabetical and Numerical Characters</h4>"
   ]
  },
  {
   "cell_type": "markdown",
   "id": "791a10c3-c65b-44e0-9351-2589d45817ab",
   "metadata": {},
   "source": [
    "There are digits that have no meaning in this dataset which we will have to remove like *,- and #. I have presented example below"
   ]
  },
  {
   "cell_type": "code",
   "execution_count": 22,
   "id": "c40c6561-1d16-4aaf-9823-4284c32109eb",
   "metadata": {
    "tags": []
   },
   "outputs": [
    {
     "data": {
      "text/plain": [
       "'Dear ricardo1 ,\\nCOST EFFECTIVE Direct Email Advertising\\nPromote Your Business For As Low As \\n$50 Per \\n1 Million\\n Email Addresses\\nMAXIMIZE YOUR MARKETING DOLLARS!\\nComplete and fax this information form to 309-407-7378.\\nA Consultant will contact you to discuss your marketing needs.\\nNAME:___________________________________________________________________\\nCOMPANY:_______________________________________________________________\\nADDRESS:________________________________________________________________\\nCITY:_____________________________________________________________________\\nSTATE:___________________________________________________________________\\nPHONE:___________________________________________________________________\\nE-MAIL:__________________________________________________________________\\nWEBSITE: (Not Required)_______________________________________________________\\n___________________________________________________________________________\\n___________________________________________________________________________\\n*COMMENTS: (Provide details, pricing, etc. on the products and services you wish to market)\\n___________________________________________________________________________\\n___________________________________________________________________________\\n___________________________________________________________________________\\n___________________________________________________________________________\\n [247(^(PO1:KJ)_8J7BJK9^\":}H&*TG0BK5NKIYs5]\\n'"
      ]
     },
     "execution_count": 22,
     "metadata": {},
     "output_type": "execute_result"
    }
   ],
   "source": [
    "dataWithoutLinks[9]"
   ]
  },
  {
   "cell_type": "code",
   "execution_count": 23,
   "id": "463d39f5-93a1-4925-8e64-0ea59774190d",
   "metadata": {
    "tags": []
   },
   "outputs": [],
   "source": [
    "#we will be removing all the other except these alphabets and numbers\n",
    "pattern = \"[^a-zA-Z0-9]\""
   ]
  },
  {
   "cell_type": "code",
   "execution_count": 24,
   "id": "9e4b849f-e0df-4cb9-85c4-5f36780b8d98",
   "metadata": {
    "tags": []
   },
   "outputs": [],
   "source": [
    "uncleanedData = data[\"Body\"]"
   ]
  },
  {
   "cell_type": "code",
   "execution_count": 25,
   "id": "ba18aaf5-f0e3-4ee5-93cd-a4149b148132",
   "metadata": {
    "tags": []
   },
   "outputs": [
    {
     "data": {
      "text/plain": [
       "'Dear ricardo1   COST EFFECTIVE Direct Email Advertising Promote Your Business For As Low As   50 Per  1 Million  Email Addresses MAXIMIZE YOUR MARKETING DOLLARS  Complete and fax this information form to 309 407 7378  A Consultant will contact you to discuss your marketing needs  NAME                                                                     COMPANY                                                                 ADDRESS                                                                  CITY                                                                       STATE                                                                     PHONE                                                                     E MAIL                                                                    WEBSITE   Not Required                                                                                                                                                                                                                  COMMENTS   Provide details  pricing  etc  on the products and services you wish to market                                                                                                                                                                                                                                                                                                                    247   PO1 KJ  8J7BJK9    H  TG0BK5NKIYs5  '"
      ]
     },
     "execution_count": 25,
     "metadata": {},
     "output_type": "execute_result"
    }
   ],
   "source": [
    "cleanedData = [re.sub(pattern,\" \",text) for text in uncleanedData]\n",
    "cleanedData[9]"
   ]
  },
  {
   "cell_type": "markdown",
   "id": "b5c71bd5-72df-479b-b4b2-03718a612be1",
   "metadata": {
    "tags": []
   },
   "source": [
    "<h3>Lower all the words</h3>"
   ]
  },
  {
   "cell_type": "markdown",
   "id": "b8a766fe-3365-44f0-b444-413a10a64795",
   "metadata": {
    "tags": []
   },
   "source": [
    "Now we will lower all the words so that it will be easier to find unique words"
   ]
  },
  {
   "cell_type": "code",
   "execution_count": 26,
   "id": "ed8a9523-774e-480c-925c-e1142c136011",
   "metadata": {
    "tags": []
   },
   "outputs": [
    {
     "data": {
      "text/plain": [
       "'1  fight the risk of cancer  http   www adclick ws p cfm o 315 s pk0072  slim down   guaranteed to lose 10 12 lbs in 30 days http   www adclick ws p cfm o 249 s pk0073  get the child support you deserve   free legal advice http   www adclick ws p cfm o 245 s pk0024  join the web s fastest growing singles community http   www adclick ws p cfm o 259 s pk0075  start your private photo album online  http   www adclick ws p cfm o 283 s pk007have a wonderful day  offer manager prizemamaif you wish to leave this list please use the link below  http   www qves com trim  ilug linux ie 7c17 7c114258     irish linux users  group  ilug linux ie http   www linux ie mailman listinfo ilug for  un subscription information  list maintainer  listmaster linux ie'"
      ]
     },
     "execution_count": 26,
     "metadata": {},
     "output_type": "execute_result"
    }
   ],
   "source": [
    "loweredData = [text.lower() for text in cleanedData]\n",
    "loweredData[1]"
   ]
  },
  {
   "cell_type": "markdown",
   "id": "240b218c-6360-4fb1-afff-1706bf654c82",
   "metadata": {
    "tags": []
   },
   "source": [
    "<h3>Listing the words</h3>"
   ]
  },
  {
   "cell_type": "markdown",
   "id": "e6a427e5-fd62-42e1-b810-9a3e6255a05b",
   "metadata": {},
   "source": [
    "Now we will be changing all the text to list of words using ntlk"
   ]
  },
  {
   "cell_type": "code",
   "execution_count": 27,
   "id": "035ba26c-b6fe-4067-b66c-03dcc3ad0ced",
   "metadata": {
    "tags": []
   },
   "outputs": [],
   "source": [
    "wordsList = [nltk.word_tokenize(text) for text in loweredData]"
   ]
  },
  {
   "cell_type": "code",
   "execution_count": 28,
   "id": "79774027-58ff-4633-9d76-0976594a8c67",
   "metadata": {},
   "outputs": [
    {
     "name": "stdout",
     "output_type": "stream",
     "text": [
      "['1', 'fight', 'the', 'risk', 'of', 'cancer', 'http', 'www', 'adclick', 'ws', 'p', 'cfm', 'o', '315', 's', 'pk0072', 'slim', 'down', 'guaranteed', 'to', 'lose', '10', '12', 'lbs', 'in', '30', 'days', 'http', 'www', 'adclick', 'ws', 'p', 'cfm', 'o', '249', 's', 'pk0073', 'get', 'the', 'child', 'support', 'you', 'deserve', 'free', 'legal', 'advice', 'http', 'www', 'adclick', 'ws', 'p', 'cfm', 'o', '245', 's', 'pk0024', 'join', 'the', 'web', 's', 'fastest', 'growing', 'singles', 'community', 'http', 'www', 'adclick', 'ws', 'p', 'cfm', 'o', '259', 's', 'pk0075', 'start', 'your', 'private', 'photo', 'album', 'online', 'http', 'www', 'adclick', 'ws', 'p', 'cfm', 'o', '283', 's', 'pk007have', 'a', 'wonderful', 'day', 'offer', 'manager', 'prizemamaif', 'you', 'wish', 'to', 'leave', 'this', 'list', 'please', 'use', 'the', 'link', 'below', 'http', 'www', 'qves', 'com', 'trim', 'ilug', 'linux', 'ie', '7c17', '7c114258', 'irish', 'linux', 'users', 'group', 'ilug', 'linux', 'ie', 'http', 'www', 'linux', 'ie', 'mailman', 'listinfo', 'ilug', 'for', 'un', 'subscription', 'information', 'list', 'maintainer', 'listmaster', 'linux', 'ie']\n"
     ]
    }
   ],
   "source": [
    "print(wordsList[1])"
   ]
  },
  {
   "cell_type": "markdown",
   "id": "6f10bbe1-8d53-4a7e-ae06-292f2eb89b40",
   "metadata": {},
   "source": [
    "<h3>Removing similar words</h3>"
   ]
  },
  {
   "cell_type": "markdown",
   "id": "23d24902-b81f-4ad0-991b-bdc52f3d1472",
   "metadata": {},
   "source": [
    "Words may have different versions. For example, words can have different tenses, we will be using Lemmatizers to filter the list."
   ]
  },
  {
   "cell_type": "code",
   "execution_count": 29,
   "id": "320965f4-2cec-4356-991d-c6f7d0d877ae",
   "metadata": {
    "tags": []
   },
   "outputs": [],
   "source": [
    "lemma = WordNetLemmatizer()"
   ]
  },
  {
   "cell_type": "code",
   "execution_count": 30,
   "id": "3ca50a49-96d2-4152-9bce-b1950ac1a5aa",
   "metadata": {
    "tags": []
   },
   "outputs": [],
   "source": [
    "LemmatizedData = [[lemma.lemmatize(word) for word in text] for text in wordsList]"
   ]
  },
  {
   "cell_type": "code",
   "execution_count": 31,
   "id": "59b3c56a-3cce-4f73-865b-a9dededcb38a",
   "metadata": {
    "tags": []
   },
   "outputs": [
    {
     "name": "stdout",
     "output_type": "stream",
     "text": [
      "['1', 'fight', 'the', 'risk', 'of', 'cancer', 'http', 'www', 'adclick', 'w', 'p', 'cfm', 'o', '315', 's', 'pk0072', 'slim', 'down', 'guaranteed', 'to', 'lose', '10', '12', 'lb', 'in', '30', 'day', 'http', 'www', 'adclick', 'w', 'p', 'cfm', 'o', '249', 's', 'pk0073', 'get', 'the', 'child', 'support', 'you', 'deserve', 'free', 'legal', 'advice', 'http', 'www', 'adclick', 'w', 'p', 'cfm', 'o', '245', 's', 'pk0024', 'join', 'the', 'web', 's', 'fastest', 'growing', 'single', 'community', 'http', 'www', 'adclick', 'w', 'p', 'cfm', 'o', '259', 's', 'pk0075', 'start', 'your', 'private', 'photo', 'album', 'online', 'http', 'www', 'adclick', 'w', 'p', 'cfm', 'o', '283', 's', 'pk007have', 'a', 'wonderful', 'day', 'offer', 'manager', 'prizemamaif', 'you', 'wish', 'to', 'leave', 'this', 'list', 'please', 'use', 'the', 'link', 'below', 'http', 'www', 'qves', 'com', 'trim', 'ilug', 'linux', 'ie', '7c17', '7c114258', 'irish', 'linux', 'user', 'group', 'ilug', 'linux', 'ie', 'http', 'www', 'linux', 'ie', 'mailman', 'listinfo', 'ilug', 'for', 'un', 'subscription', 'information', 'list', 'maintainer', 'listmaster', 'linux', 'ie']\n"
     ]
    }
   ],
   "source": [
    "print(LemmatizedData[1])"
   ]
  },
  {
   "cell_type": "markdown",
   "id": "f4887e5d-eebf-4ccc-a929-f49d24edc6c1",
   "metadata": {
    "tags": []
   },
   "source": [
    "<h3>Removing stopwords</h3>"
   ]
  },
  {
   "cell_type": "markdown",
   "id": "1c46f865-c8c6-4ef4-ae77-e7640900cfe2",
   "metadata": {},
   "source": [
    "There may be words like will, add, or,etc which are used normally, therefore, it will save time for training a data if we remove these kinds of words "
   ]
  },
  {
   "cell_type": "code",
   "execution_count": 32,
   "id": "880d6b5d-f6f0-4632-a2c2-918e3431449f",
   "metadata": {
    "tags": []
   },
   "outputs": [],
   "source": [
    "stopwords = nltk.corpus.stopwords.words(\"english\")"
   ]
  },
  {
   "cell_type": "code",
   "execution_count": 33,
   "id": "1e6ed09a-57e0-41ec-8ec9-8543425f5195",
   "metadata": {
    "tags": []
   },
   "outputs": [],
   "source": [
    "preparedData = [[word for word in text if word not in stopwords] for text in LemmatizedData]"
   ]
  },
  {
   "cell_type": "code",
   "execution_count": 34,
   "id": "f903db22-f346-4556-9e92-dc443c28d2e9",
   "metadata": {
    "tags": []
   },
   "outputs": [
    {
     "name": "stdout",
     "output_type": "stream",
     "text": [
      "['1', 'fight', 'risk', 'cancer', 'http', 'www', 'adclick', 'w', 'p', 'cfm', '315', 'pk0072', 'slim', 'guaranteed', 'lose', '10', '12', 'lb', '30', 'day', 'http', 'www', 'adclick', 'w', 'p', 'cfm', '249', 'pk0073', 'get', 'child', 'support', 'deserve', 'free', 'legal', 'advice', 'http', 'www', 'adclick', 'w', 'p', 'cfm', '245', 'pk0024', 'join', 'web', 'fastest', 'growing', 'single', 'community', 'http', 'www', 'adclick', 'w', 'p', 'cfm', '259', 'pk0075', 'start', 'private', 'photo', 'album', 'online', 'http', 'www', 'adclick', 'w', 'p', 'cfm', '283', 'pk007have', 'wonderful', 'day', 'offer', 'manager', 'prizemamaif', 'wish', 'leave', 'list', 'please', 'use', 'link', 'http', 'www', 'qves', 'com', 'trim', 'ilug', 'linux', 'ie', '7c17', '7c114258', 'irish', 'linux', 'user', 'group', 'ilug', 'linux', 'ie', 'http', 'www', 'linux', 'ie', 'mailman', 'listinfo', 'ilug', 'un', 'subscription', 'information', 'list', 'maintainer', 'listmaster', 'linux', 'ie']\n"
     ]
    }
   ],
   "source": [
    "print(preparedData[1])"
   ]
  },
  {
   "cell_type": "markdown",
   "id": "4a62b024-0069-4d90-97e5-9d2b74df7948",
   "metadata": {},
   "source": [
    "<h3>Uniquewords count</h3>"
   ]
  },
  {
   "cell_type": "code",
   "execution_count": 35,
   "id": "2a2f3e29-9447-4c4e-80d0-194d0a6b0b02",
   "metadata": {
    "tags": []
   },
   "outputs": [
    {
     "data": {
      "text/plain": [
       "62354"
      ]
     },
     "execution_count": 35,
     "metadata": {},
     "output_type": "execute_result"
    }
   ],
   "source": [
    "len(np.unique([word for text in preparedData for word in text]))"
   ]
  },
  {
   "cell_type": "markdown",
   "id": "30379ffb-2570-4b85-a2a0-4a579bed1e48",
   "metadata": {},
   "source": [
    "<h3>Bag of Words</h3>"
   ]
  },
  {
   "cell_type": "markdown",
   "id": "d3656854-e86f-4832-8642-b66744f52018",
   "metadata": {},
   "source": [
    "Bag of words is created to make it easier for algorithm to learn whether the text is spam or not."
   ]
  },
  {
   "cell_type": "code",
   "execution_count": 36,
   "id": "96093cd3-5a40-4fbd-9b46-67f03675a67a",
   "metadata": {
    "tags": []
   },
   "outputs": [],
   "source": [
    "vectorizer = CountVectorizer()\n",
    "BagOfWords = vectorizer.fit_transform([\" \".join(text) for text in preparedData]).toarray()"
   ]
  },
  {
   "cell_type": "code",
   "execution_count": 50,
   "id": "9f527380-2c77-449f-a1ac-e434457da95f",
   "metadata": {
    "tags": []
   },
   "outputs": [
    {
     "data": {
      "text/plain": [
       "(6045, 62326)"
      ]
     },
     "execution_count": 50,
     "metadata": {},
     "output_type": "execute_result"
    }
   ],
   "source": [
    "BagOfWords.shape"
   ]
  },
  {
   "cell_type": "markdown",
   "id": "da923df4-234e-4b32-b8dd-1ec864334aae",
   "metadata": {},
   "source": [
    "<h3>Data Splitting</h3>"
   ]
  },
  {
   "cell_type": "markdown",
   "id": "6dbb2f1d-b4f7-44a0-9ae8-b1b39b728db9",
   "metadata": {},
   "source": [
    "Before modelling the data, the data needs to be splitted into two parts which is train and test dataset"
   ]
  },
  {
   "cell_type": "code",
   "execution_count": 51,
   "id": "3221a696-5bd8-47b8-8128-d7ed053e1554",
   "metadata": {
    "tags": []
   },
   "outputs": [
    {
     "data": {
      "text/plain": [
       "(4836, 62326)"
      ]
     },
     "execution_count": 51,
     "metadata": {},
     "output_type": "execute_result"
    }
   ],
   "source": [
    "x_train,x_test,y_train,y_test = train_test_split(BagOfWords,np.asarray(data[\"Label\"]),random_state=42,test_size=0.2)\n",
    "x_train.shape"
   ]
  },
  {
   "cell_type": "markdown",
   "id": "c62b0683-235d-469c-ae91-5d3057cc3178",
   "metadata": {
    "tags": []
   },
   "source": [
    "<h2>Data Modelling</h2>"
   ]
  },
  {
   "cell_type": "markdown",
   "id": "0d68bdea-4c6a-4338-83ca-794f239adc6e",
   "metadata": {},
   "source": [
    "Now we will be modelling the data with different algorithms"
   ]
  },
  {
   "cell_type": "markdown",
   "id": "a64f0a73-d41b-4cdb-b18d-992a29301b9e",
   "metadata": {
    "tags": []
   },
   "source": [
    "<h3>Support Vector Machine</h3>"
   ]
  },
  {
   "cell_type": "markdown",
   "id": "8655f817-5490-4e64-96d6-f477921a8361",
   "metadata": {
    "tags": []
   },
   "source": [
    "<h4>Without Hyperparameter tuning</h4>"
   ]
  },
  {
   "cell_type": "code",
   "execution_count": 126,
   "id": "1cacf91e-e584-49f8-9b4d-d1f669bbf18f",
   "metadata": {},
   "outputs": [
    {
     "data": {
      "text/html": [
       "<style>#sk-container-id-2 {color: black;background-color: white;}#sk-container-id-2 pre{padding: 0;}#sk-container-id-2 div.sk-toggleable {background-color: white;}#sk-container-id-2 label.sk-toggleable__label {cursor: pointer;display: block;width: 100%;margin-bottom: 0;padding: 0.3em;box-sizing: border-box;text-align: center;}#sk-container-id-2 label.sk-toggleable__label-arrow:before {content: \"▸\";float: left;margin-right: 0.25em;color: #696969;}#sk-container-id-2 label.sk-toggleable__label-arrow:hover:before {color: black;}#sk-container-id-2 div.sk-estimator:hover label.sk-toggleable__label-arrow:before {color: black;}#sk-container-id-2 div.sk-toggleable__content {max-height: 0;max-width: 0;overflow: hidden;text-align: left;background-color: #f0f8ff;}#sk-container-id-2 div.sk-toggleable__content pre {margin: 0.2em;color: black;border-radius: 0.25em;background-color: #f0f8ff;}#sk-container-id-2 input.sk-toggleable__control:checked~div.sk-toggleable__content {max-height: 200px;max-width: 100%;overflow: auto;}#sk-container-id-2 input.sk-toggleable__control:checked~label.sk-toggleable__label-arrow:before {content: \"▾\";}#sk-container-id-2 div.sk-estimator input.sk-toggleable__control:checked~label.sk-toggleable__label {background-color: #d4ebff;}#sk-container-id-2 div.sk-label input.sk-toggleable__control:checked~label.sk-toggleable__label {background-color: #d4ebff;}#sk-container-id-2 input.sk-hidden--visually {border: 0;clip: rect(1px 1px 1px 1px);clip: rect(1px, 1px, 1px, 1px);height: 1px;margin: -1px;overflow: hidden;padding: 0;position: absolute;width: 1px;}#sk-container-id-2 div.sk-estimator {font-family: monospace;background-color: #f0f8ff;border: 1px dotted black;border-radius: 0.25em;box-sizing: border-box;margin-bottom: 0.5em;}#sk-container-id-2 div.sk-estimator:hover {background-color: #d4ebff;}#sk-container-id-2 div.sk-parallel-item::after {content: \"\";width: 100%;border-bottom: 1px solid gray;flex-grow: 1;}#sk-container-id-2 div.sk-label:hover label.sk-toggleable__label {background-color: #d4ebff;}#sk-container-id-2 div.sk-serial::before {content: \"\";position: absolute;border-left: 1px solid gray;box-sizing: border-box;top: 0;bottom: 0;left: 50%;z-index: 0;}#sk-container-id-2 div.sk-serial {display: flex;flex-direction: column;align-items: center;background-color: white;padding-right: 0.2em;padding-left: 0.2em;position: relative;}#sk-container-id-2 div.sk-item {position: relative;z-index: 1;}#sk-container-id-2 div.sk-parallel {display: flex;align-items: stretch;justify-content: center;background-color: white;position: relative;}#sk-container-id-2 div.sk-item::before, #sk-container-id-2 div.sk-parallel-item::before {content: \"\";position: absolute;border-left: 1px solid gray;box-sizing: border-box;top: 0;bottom: 0;left: 50%;z-index: -1;}#sk-container-id-2 div.sk-parallel-item {display: flex;flex-direction: column;z-index: 1;position: relative;background-color: white;}#sk-container-id-2 div.sk-parallel-item:first-child::after {align-self: flex-end;width: 50%;}#sk-container-id-2 div.sk-parallel-item:last-child::after {align-self: flex-start;width: 50%;}#sk-container-id-2 div.sk-parallel-item:only-child::after {width: 0;}#sk-container-id-2 div.sk-dashed-wrapped {border: 1px dashed gray;margin: 0 0.4em 0.5em 0.4em;box-sizing: border-box;padding-bottom: 0.4em;background-color: white;}#sk-container-id-2 div.sk-label label {font-family: monospace;font-weight: bold;display: inline-block;line-height: 1.2em;}#sk-container-id-2 div.sk-label-container {text-align: center;}#sk-container-id-2 div.sk-container {/* jupyter's `normalize.less` sets `[hidden] { display: none; }` but bootstrap.min.css set `[hidden] { display: none !important; }` so we also need the `!important` here to be able to override the default hidden behavior on the sphinx rendered scikit-learn.org. See: https://github.com/scikit-learn/scikit-learn/issues/21755 */display: inline-block !important;position: relative;}#sk-container-id-2 div.sk-text-repr-fallback {display: none;}</style><div id=\"sk-container-id-2\" class=\"sk-top-container\"><div class=\"sk-text-repr-fallback\"><pre>SVC()</pre><b>In a Jupyter environment, please rerun this cell to show the HTML representation or trust the notebook. <br />On GitHub, the HTML representation is unable to render, please try loading this page with nbviewer.org.</b></div><div class=\"sk-container\" hidden><div class=\"sk-item\"><div class=\"sk-estimator sk-toggleable\"><input class=\"sk-toggleable__control sk-hidden--visually\" id=\"sk-estimator-id-2\" type=\"checkbox\" checked><label for=\"sk-estimator-id-2\" class=\"sk-toggleable__label sk-toggleable__label-arrow\">SVC</label><div class=\"sk-toggleable__content\"><pre>SVC()</pre></div></div></div></div></div>"
      ],
      "text/plain": [
       "SVC()"
      ]
     },
     "execution_count": 126,
     "metadata": {},
     "output_type": "execute_result"
    }
   ],
   "source": [
    "normal_svm_model = svm.SVC()\n",
    "normal_svm_model.fit(x_train, y_train)"
   ]
  },
  {
   "cell_type": "code",
   "execution_count": 127,
   "id": "e1ffd977-bab8-4971-9efe-3e1923939b99",
   "metadata": {
    "tags": []
   },
   "outputs": [
    {
     "name": "stdout",
     "output_type": "stream",
     "text": [
      "Metrics without Hyperparameter Tuning:\n",
      "Accuracy: 91.15%\n",
      "Precision:99.66%\n",
      "Recall:73.63%\n",
      "F1 Score84.69%\n",
      "Error Rate:8.85%\n"
     ]
    }
   ],
   "source": [
    "y_pred = normal_svm_model.predict(x_test)\n",
    "\n",
    "accuracy = accuracy_score(y_test, y_pred) * 100\n",
    "precision = precision_score(y_test, y_pred,zero_division=1) * 100\n",
    "recall = recall_score(y_test, y_pred) * 100\n",
    "f1 = f1_score(y_test, y_pred) * 100\n",
    "conf_matrix = confusion_matrix(y_test, y_pred)\n",
    "error_rate = ((conf_matrix[0, 1] + conf_matrix[1, 0]) / float(conf_matrix.sum()))*100\n",
    "\n",
    "print(\"Metrics without Hyperparameter Tuning:\")\n",
    "print(\"Accuracy: {:.2f}%\".format(accuracy))\n",
    "print(\"Precision:{:.2f}%\".format( precision) )\n",
    "print(\"Recall:{:.2f}%\".format( recall ))\n",
    "print(\"F1 Score{:.2f}%\".format( f1))\n",
    "print(\"Error Rate:{:.2f}%\".format( error_rate) )"
   ]
  },
  {
   "cell_type": "markdown",
   "id": "71ae6ac9-194f-49d3-a303-164200b01433",
   "metadata": {},
   "source": [
    "<h4>With Hyperparameter tuning</h4>"
   ]
  },
  {
   "cell_type": "code",
   "execution_count": 53,
   "id": "e1478443-7709-451e-87df-9ebe3c68af91",
   "metadata": {},
   "outputs": [],
   "source": [
    "def evaluate_svm_model(parameters, x_train, y_train, x_test, y_test):\n",
    "    svm_model = svm.SVC(**parameters)\n",
    "    svm_model.fit(x_train, y_train)\n",
    "    y_pred = svm_model.predict(x_test)\n",
    "\n",
    "    accuracy = accuracy_score(y_test, y_pred) * 100\n",
    "    precision = precision_score(y_test, y_pred, zero_division=1) * 100\n",
    "    recall = recall_score(y_test, y_pred) * 100\n",
    "    f1 = f1_score(y_test, y_pred) * 100\n",
    "    conf_matrix = confusion_matrix(y_test, y_pred)\n",
    "    error_rate = ((conf_matrix[0, 1] + conf_matrix[1, 0]) / float(conf_matrix.sum())) * 100\n",
    "\n",
    "    return accuracy, precision, recall, f1, error_rate"
   ]
  },
  {
   "cell_type": "markdown",
   "id": "d6e2b2b7-aa68-4ba2-aaa5-8d867966b900",
   "metadata": {},
   "source": [
    "<h5>Hyperparameter tuning 1</h5>"
   ]
  },
  {
   "cell_type": "code",
   "execution_count": 54,
   "id": "d353ea61-f398-431f-9dfe-2e3f00d76567",
   "metadata": {
    "tags": []
   },
   "outputs": [
    {
     "name": "stdout",
     "output_type": "stream",
     "text": [
      "Metrics with Hyperparameter Tuning: 1\n",
      "Accuracy: 95.29%\n",
      "Precision: 89.12%\n",
      "Recall: 97.76%\n",
      "F1 Score: 93.24%\n",
      "Error Rate: 4.71%\n"
     ]
    }
   ],
   "source": [
    "parameter_1 = {'C': 0.1, 'kernel': 'linear', 'gamma': 'scale'}\n",
    "result_1 = evaluate_svm_model(parameter_1, x_train, y_train, x_test, y_test)\n",
    "print(\"Metrics with Hyperparameter Tuning: 1\")\n",
    "print(\"Accuracy: {:.2f}%\".format(result_1[0]))\n",
    "print(\"Precision: {:.2f}%\".format( result_1[1]))\n",
    "print(\"Recall: {:.2f}%\".format(result_1[2]))\n",
    "print(\"F1 Score: {:.2f}%\".format( result_1[3]))\n",
    "print(\"Error Rate: {:.2f}%\".format( result_1[4]))"
   ]
  },
  {
   "cell_type": "markdown",
   "id": "30acad18-b90b-4104-921a-5f06cab4ceef",
   "metadata": {
    "tags": []
   },
   "source": [
    "<h5>Hyperparameter tuning 2</h5>"
   ]
  },
  {
   "cell_type": "code",
   "execution_count": 55,
   "id": "b18c1d17-024d-4f14-a5d3-8502e7c61c7c",
   "metadata": {
    "tags": []
   },
   "outputs": [
    {
     "name": "stdout",
     "output_type": "stream",
     "text": [
      "Metrics with Hyperparameter Tuning: 1\n",
      "Accuracy: 91.15%\n",
      "Precision: 99.66%\n",
      "Recall: 73.63%\n",
      "F1 Score: 84.69%\n",
      "Error Rate: 8.85%\n"
     ]
    }
   ],
   "source": [
    "parameter_2 = {'C': 1, 'kernel': 'rbf', 'gamma': 'scale'}\n",
    "result_2 = evaluate_svm_model(parameter_2, x_train, y_train, x_test, y_test)\n",
    "print(\"Metrics with Hyperparameter Tuning: 1\")\n",
    "print(\"Accuracy: {:.2f}%\".format(result_2[0]))\n",
    "print(\"Precision: {:.2f}%\".format( result_2[1]))\n",
    "print(\"Recall: {:.2f}%\".format(result_2[2]))\n",
    "print(\"F1 Score: {:.2f}%\".format( result_2[3]))\n",
    "print(\"Error Rate: {:.2f}%\".format( result_2[4]))"
   ]
  },
  {
   "cell_type": "markdown",
   "id": "7b332380-e28c-4a1f-891d-27442e9003fd",
   "metadata": {
    "tags": []
   },
   "source": [
    "<h5>Hyperparameter tuning 3</h5>"
   ]
  },
  {
   "cell_type": "code",
   "execution_count": 56,
   "id": "ef29cba8-d41a-4ca3-b203-e5faa8d51790",
   "metadata": {
    "tags": []
   },
   "outputs": [
    {
     "name": "stdout",
     "output_type": "stream",
     "text": [
      "Metrics with Hyperparameter Tuning: 3\n",
      "Accuracy: 86.10%\n",
      "Precision: 74.38%\n",
      "Recall: 88.81%\n",
      "F1 Score: 80.95%\n",
      "Error Rate: 13.90%\n"
     ]
    }
   ],
   "source": [
    "parameter_3 = {'C': 10, 'kernel': 'poly', 'gamma': 0.1}\n",
    "result_3 = evaluate_svm_model(parameter_3, x_train, y_train, x_test, y_test)\n",
    "print(\"Metrics with Hyperparameter Tuning: 3\")\n",
    "print(\"Accuracy: {:.2f}%\".format(result_3[0]))\n",
    "print(\"Precision: {:.2f}%\".format( result_3[1]))\n",
    "print(\"Recall: {:.2f}%\".format(result_3[2]))\n",
    "print(\"F1 Score: {:.2f}%\".format( result_3[3]))\n",
    "print(\"Error Rate: {:.2f}%\".format( result_3[4]))"
   ]
  },
  {
   "cell_type": "markdown",
   "id": "dd3da4d2-60ea-41e6-bfad-d41a748909ec",
   "metadata": {
    "tags": []
   },
   "source": [
    "<h5>Hyperparameter tuning 4</h5>"
   ]
  },
  {
   "cell_type": "code",
   "execution_count": 74,
   "id": "2c49ab83-e404-43a7-ac26-b7e039d8d52f",
   "metadata": {
    "tags": []
   },
   "outputs": [
    {
     "name": "stdout",
     "output_type": "stream",
     "text": [
      "Metrics with Hyperparameter Tuning: 4\n",
      "Accuracy: 95.29%\n",
      "Precision: 89.47%\n",
      "Recall: 97.26%\n",
      "F1 Score: 93.21%\n",
      "Error Rate: 4.71%\n"
     ]
    }
   ],
   "source": [
    "parameter_4 = {'C': 0.01, 'kernel': 'linear', 'gamma': 'auto'}\n",
    "result_4 = evaluate_svm_model(parameter_4, x_train, y_train, x_test, y_test)\n",
    "print(\"Metrics with Hyperparameter Tuning: 4\")\n",
    "print(\"Accuracy: {:.2f}%\".format(result_4[0]))\n",
    "print(\"Precision: {:.2f}%\".format( result_4[1]))\n",
    "print(\"Recall: {:.2f}%\".format(result_4[2]))\n",
    "print(\"F1 Score: {:.2f}%\".format( result_4[3]))\n",
    "print(\"Error Rate: {:.2f}%\".format( result_4[4]))"
   ]
  },
  {
   "cell_type": "markdown",
   "id": "7fde0ef3-2e24-4f55-abc7-6f4883d1775a",
   "metadata": {
    "tags": []
   },
   "source": [
    "<h5>Hyperparameter tuning 5</h5>"
   ]
  },
  {
   "cell_type": "code",
   "execution_count": 58,
   "id": "59745439-9529-4711-bcd5-92a7461a2145",
   "metadata": {
    "tags": []
   },
   "outputs": [
    {
     "name": "stdout",
     "output_type": "stream",
     "text": [
      "Metrics with Hyperparameter Tuning: 5\n",
      "Accuracy: 68.32%\n",
      "Precision: 100.00%\n",
      "Recall: 4.73%\n",
      "F1 Score: 9.03%\n",
      "Error Rate: 31.68%\n"
     ]
    }
   ],
   "source": [
    "parameter_5 = {'C': 0.5, 'kernel': 'rbf', 'gamma': 'auto'}\n",
    "result_5 = evaluate_svm_model(parameter_5, x_train, y_train, x_test, y_test)\n",
    "print(\"Metrics with Hyperparameter Tuning: 5\")\n",
    "print(\"Accuracy: {:.2f}%\".format(result_5[0]))\n",
    "print(\"Precision: {:.2f}%\".format( result_5[1]))\n",
    "print(\"Recall: {:.2f}%\".format(result_5[2]))\n",
    "print(\"F1 Score: {:.2f}%\".format( result_5[3]))\n",
    "print(\"Error Rate: {:.2f}%\".format( result_5[4]))"
   ]
  },
  {
   "cell_type": "markdown",
   "id": "ab54bb14-44e2-4cde-bef5-548285bff1c2",
   "metadata": {
    "tags": []
   },
   "source": [
    "<h5>Hyperparameter tuning 6</h5>"
   ]
  },
  {
   "cell_type": "code",
   "execution_count": 59,
   "id": "a5667554-d6bc-4d0e-a773-6b5c6aeb9d50",
   "metadata": {
    "tags": []
   },
   "outputs": [
    {
     "name": "stdout",
     "output_type": "stream",
     "text": [
      "Metrics with Hyperparameter Tuning: 6\n",
      "Accuracy: 86.68%\n",
      "Precision: 94.14%\n",
      "Recall: 63.93%\n",
      "F1 Score: 76.15%\n",
      "Error Rate: 13.32%\n"
     ]
    }
   ],
   "source": [
    "parameter_6 = {'C': 5, 'kernel': 'poly', 'gamma': 0.01}\n",
    "result_6 = evaluate_svm_model(parameter_6, x_train, y_train, x_test, y_test)\n",
    "print(\"Metrics with Hyperparameter Tuning: 6\")\n",
    "print(\"Accuracy: {:.2f}%\".format(result_6[0]))\n",
    "print(\"Precision: {:.2f}%\".format( result_6[1]))\n",
    "print(\"Recall: {:.2f}%\".format(result_6[2]))\n",
    "print(\"F1 Score: {:.2f}%\".format( result_6[3]))\n",
    "print(\"Error Rate: {:.2f}%\".format( result_6[4]))"
   ]
  },
  {
   "cell_type": "markdown",
   "id": "d93c37c1-6093-4ee0-af0b-99df03afdfe5",
   "metadata": {
    "tags": []
   },
   "source": [
    "<h5>Hyperparameter tuning 7</h5>"
   ]
  },
  {
   "cell_type": "code",
   "execution_count": 60,
   "id": "e5af154c-7068-4632-ac1e-38ac96038926",
   "metadata": {
    "tags": []
   },
   "outputs": [
    {
     "name": "stdout",
     "output_type": "stream",
     "text": [
      "Metrics with Hyperparameter Tuning: 7\n",
      "Accuracy: 89.66%\n",
      "Precision: 99.29%\n",
      "Recall: 69.40%\n",
      "F1 Score: 81.70%\n",
      "Error Rate: 10.34%\n"
     ]
    }
   ],
   "source": [
    "parameter_7 = {'C': 0.001, 'kernel': 'linear', 'gamma': 'scale'}\n",
    "result_7 = evaluate_svm_model(parameter_7, x_train, y_train, x_test, y_test)\n",
    "print(\"Metrics with Hyperparameter Tuning: 7\")\n",
    "print(\"Accuracy: {:.2f}%\".format(result_7[0]))\n",
    "print(\"Precision: {:.2f}%\".format( result_7[1]))\n",
    "print(\"Recall: {:.2f}%\".format(result_7[2]))\n",
    "print(\"F1 Score: {:.2f}%\".format( result_7[3]))\n",
    "print(\"Error Rate: {:.2f}%\".format( result_7[4]))"
   ]
  },
  {
   "cell_type": "markdown",
   "id": "750fdf40-c63f-45c8-9a49-5dfa4d58482b",
   "metadata": {
    "tags": []
   },
   "source": [
    "<h5>Hyperparameter tuning 8</h5>"
   ]
  },
  {
   "cell_type": "code",
   "execution_count": 61,
   "id": "51a91e7a-dd5e-4792-8d55-5e6f483f0b6e",
   "metadata": {
    "tags": []
   },
   "outputs": [
    {
     "name": "stdout",
     "output_type": "stream",
     "text": [
      "Metrics with Hyperparameter Tuning: 8\n",
      "Accuracy: 67.25%\n",
      "Precision: 87.50%\n",
      "Recall: 1.74%\n",
      "F1 Score: 3.41%\n",
      "Error Rate: 32.75%\n"
     ]
    }
   ],
   "source": [
    "parameter_8 ={'C': 20, 'kernel': 'poly', 'gamma': 'auto'}\n",
    "result_8 = evaluate_svm_model(parameter_8, x_train, y_train, x_test, y_test)\n",
    "print(\"Metrics with Hyperparameter Tuning: 8\")\n",
    "print(\"Accuracy: {:.2f}%\".format(result_8[0]))\n",
    "print(\"Precision: {:.2f}%\".format( result_8[1]))\n",
    "print(\"Recall: {:.2f}%\".format(result_8[2]))\n",
    "print(\"F1 Score: {:.2f}%\".format( result_8[3]))\n",
    "print(\"Error Rate: {:.2f}%\".format( result_8[4]))"
   ]
  },
  {
   "cell_type": "markdown",
   "id": "5cd0a4a5-14f3-4e88-adf6-7a6276c88221",
   "metadata": {
    "tags": []
   },
   "source": [
    "<h5>Hyperparameter tuning 9</h5>"
   ]
  },
  {
   "cell_type": "code",
   "execution_count": 62,
   "id": "685ad6ad-0ef9-4870-9a08-739ebd2e30af",
   "metadata": {
    "tags": []
   },
   "outputs": [
    {
     "name": "stdout",
     "output_type": "stream",
     "text": [
      "Metrics with Hyperparameter Tuning: 9\n",
      "Accuracy: 95.04%\n",
      "Precision: 90.14%\n",
      "Recall: 95.52%\n",
      "F1 Score: 92.75%\n",
      "Error Rate: 4.96%\n"
     ]
    }
   ],
   "source": [
    "parameter_9 = {'C': 0.005, 'kernel': 'linear', 'gamma': 0.01}\n",
    "result_9 = evaluate_svm_model(parameter_9, x_train, y_train, x_test, y_test)\n",
    "print(\"Metrics with Hyperparameter Tuning: 9\")\n",
    "print(\"Accuracy: {:.2f}%\".format(result_9[0]))\n",
    "print(\"Precision: {:.2f}%\".format( result_9[1]))\n",
    "print(\"Recall: {:.2f}%\".format(result_9[2]))\n",
    "print(\"F1 Score: {:.2f}%\".format( result_9[3]))\n",
    "print(\"Error Rate: {:.2f}%\".format( result_9[4]))"
   ]
  },
  {
   "cell_type": "markdown",
   "id": "5b8f1d85-339a-4db4-8a71-4e4d0ff96fb6",
   "metadata": {
    "tags": []
   },
   "source": [
    "<h5>Hyperparameter tuning 10</h5>"
   ]
  },
  {
   "cell_type": "code",
   "execution_count": 63,
   "id": "fe0d0025-eaf0-4749-aeaf-aca913f74edb",
   "metadata": {
    "tags": []
   },
   "outputs": [
    {
     "name": "stdout",
     "output_type": "stream",
     "text": [
      "Metrics with Hyperparameter Tuning: 9\n",
      "Accuracy: 85.19%\n",
      "Precision: 99.56%\n",
      "Recall: 55.72%\n",
      "F1 Score: 71.45%\n",
      "Error Rate: 14.81%\n"
     ]
    }
   ],
   "source": [
    "parameter_10 = {'C': 0.2, 'kernel': 'rbf', 'gamma': 'scale'}\n",
    "result_10 = evaluate_svm_model(parameter_10, x_train, y_train, x_test, y_test)\n",
    "print(\"Metrics with Hyperparameter Tuning: 9\")\n",
    "print(\"Accuracy: {:.2f}%\".format(result_10[0]))\n",
    "print(\"Precision: {:.2f}%\".format( result_10[1]))\n",
    "print(\"Recall: {:.2f}%\".format(result_10[2]))\n",
    "print(\"F1 Score: {:.2f}%\".format( result_10[3]))\n",
    "print(\"Error Rate: {:.2f}%\".format( result_10[4]))"
   ]
  },
  {
   "cell_type": "markdown",
   "id": "e6ce1347-ac0d-41ca-86a5-aafb390a65b5",
   "metadata": {
    "tags": []
   },
   "source": [
    "<h4>Evaluation of SVM Accuracy </h4>"
   ]
  },
  {
   "cell_type": "code",
   "execution_count": 129,
   "id": "66ac92b1-e84d-4a68-849d-63a49cbf4805",
   "metadata": {
    "tags": []
   },
   "outputs": [
    {
     "data": {
      "text/plain": [
       "([0, 1, 2, 3, 4, 5, 6, 7, 8, 9, 10],\n",
       " [Text(0, 0, 'No-Hyperparameter'),\n",
       "  Text(1, 0, 'Hyperparameter - 1'),\n",
       "  Text(2, 0, 'Hyperparameter - 2'),\n",
       "  Text(3, 0, 'Hyperparameter - 3'),\n",
       "  Text(4, 0, 'Hyperparameter - 4'),\n",
       "  Text(5, 0, 'Hyperparameter - 5'),\n",
       "  Text(6, 0, 'Hyperparameter - 6'),\n",
       "  Text(7, 0, 'Hyperparameter - 7'),\n",
       "  Text(8, 0, 'Hyperparameter - 8'),\n",
       "  Text(9, 0, 'Hyperparameter - 9'),\n",
       "  Text(10, 0, 'Hyperparameter - 10')])"
      ]
     },
     "execution_count": 129,
     "metadata": {},
     "output_type": "execute_result"
    },
    {
     "data": {
      "image/png": "[encoded data removed]",
      "text/plain": [
       "<Figure size 2000x500 with 1 Axes>"
      ]
     },
     "metadata": {},
     "output_type": "display_data"
    }
   ],
   "source": [
    "%matplotlib inline \n",
    "\n",
    "\n",
    "Headings = ['No-Hyperparameter','Hyperparameter - 1','Hyperparameter - 2',\n",
    "            'Hyperparameter - 3','Hyperparameter - 4','Hyperparameter - 5',\n",
    "            'Hyperparameter - 6','Hyperparameter - 7','Hyperparameter - 8',\n",
    "            'Hyperparameter - 9','Hyperparameter - 10']\n",
    "Heading_values = [accuracy, result_1[0],result_2[0],\n",
    "                  result_3[0],result_4[0],result_5[0],\n",
    "                  result_6[0],result_7[0],result_8[0],\n",
    "                  result_9[0],result_10[0]]\n",
    "max_value = Heading_values.index(max(Heading_values))\n",
    "plt.figure(figsize=(20, 5))\n",
    "plt.title('SVM accuracy with different hyperparameters')\n",
    "bars = plt.bar(Headings, Heading_values)\n",
    "bars[max_value].set_color('purple')\n",
    "for i, v in enumerate(Heading_values):\n",
    "    plt.text(i, v + 1, str(round(v, 2)), ha='center', \n",
    "             va='bottom', fontweight='bold', color='black')\n",
    "plt.xticks(rotation=\"vertical\")\n",
    "\n"
   ]
  },
  {
   "cell_type": "markdown",
   "id": "539cf28e-6f68-455b-8fb5-fb3d3398f8a6",
   "metadata": {
    "tags": []
   },
   "source": [
    "<h3>K-Nearest Neigbours</h3>"
   ]
  },
  {
   "cell_type": "markdown",
   "id": "7db44e24-a7b1-4a39-ad28-612b46c6e621",
   "metadata": {
    "tags": []
   },
   "source": [
    "<h4>Without Hyperparameter tuning</h4>"
   ]
  },
  {
   "cell_type": "code",
   "execution_count": 130,
   "id": "c1915774-f6fe-4e82-8fcc-43984d27a4df",
   "metadata": {
    "tags": []
   },
   "outputs": [
    {
     "data": {
      "text/html": [
       "<style>#sk-container-id-3 {color: black;background-color: white;}#sk-container-id-3 pre{padding: 0;}#sk-container-id-3 div.sk-toggleable {background-color: white;}#sk-container-id-3 label.sk-toggleable__label {cursor: pointer;display: block;width: 100%;margin-bottom: 0;padding: 0.3em;box-sizing: border-box;text-align: center;}#sk-container-id-3 label.sk-toggleable__label-arrow:before {content: \"▸\";float: left;margin-right: 0.25em;color: #696969;}#sk-container-id-3 label.sk-toggleable__label-arrow:hover:before {color: black;}#sk-container-id-3 div.sk-estimator:hover label.sk-toggleable__label-arrow:before {color: black;}#sk-container-id-3 div.sk-toggleable__content {max-height: 0;max-width: 0;overflow: hidden;text-align: left;background-color: #f0f8ff;}#sk-container-id-3 div.sk-toggleable__content pre {margin: 0.2em;color: black;border-radius: 0.25em;background-color: #f0f8ff;}#sk-container-id-3 input.sk-toggleable__control:checked~div.sk-toggleable__content {max-height: 200px;max-width: 100%;overflow: auto;}#sk-container-id-3 input.sk-toggleable__control:checked~label.sk-toggleable__label-arrow:before {content: \"▾\";}#sk-container-id-3 div.sk-estimator input.sk-toggleable__control:checked~label.sk-toggleable__label {background-color: #d4ebff;}#sk-container-id-3 div.sk-label input.sk-toggleable__control:checked~label.sk-toggleable__label {background-color: #d4ebff;}#sk-container-id-3 input.sk-hidden--visually {border: 0;clip: rect(1px 1px 1px 1px);clip: rect(1px, 1px, 1px, 1px);height: 1px;margin: -1px;overflow: hidden;padding: 0;position: absolute;width: 1px;}#sk-container-id-3 div.sk-estimator {font-family: monospace;background-color: #f0f8ff;border: 1px dotted black;border-radius: 0.25em;box-sizing: border-box;margin-bottom: 0.5em;}#sk-container-id-3 div.sk-estimator:hover {background-color: #d4ebff;}#sk-container-id-3 div.sk-parallel-item::after {content: \"\";width: 100%;border-bottom: 1px solid gray;flex-grow: 1;}#sk-container-id-3 div.sk-label:hover label.sk-toggleable__label {background-color: #d4ebff;}#sk-container-id-3 div.sk-serial::before {content: \"\";position: absolute;border-left: 1px solid gray;box-sizing: border-box;top: 0;bottom: 0;left: 50%;z-index: 0;}#sk-container-id-3 div.sk-serial {display: flex;flex-direction: column;align-items: center;background-color: white;padding-right: 0.2em;padding-left: 0.2em;position: relative;}#sk-container-id-3 div.sk-item {position: relative;z-index: 1;}#sk-container-id-3 div.sk-parallel {display: flex;align-items: stretch;justify-content: center;background-color: white;position: relative;}#sk-container-id-3 div.sk-item::before, #sk-container-id-3 div.sk-parallel-item::before {content: \"\";position: absolute;border-left: 1px solid gray;box-sizing: border-box;top: 0;bottom: 0;left: 50%;z-index: -1;}#sk-container-id-3 div.sk-parallel-item {display: flex;flex-direction: column;z-index: 1;position: relative;background-color: white;}#sk-container-id-3 div.sk-parallel-item:first-child::after {align-self: flex-end;width: 50%;}#sk-container-id-3 div.sk-parallel-item:last-child::after {align-self: flex-start;width: 50%;}#sk-container-id-3 div.sk-parallel-item:only-child::after {width: 0;}#sk-container-id-3 div.sk-dashed-wrapped {border: 1px dashed gray;margin: 0 0.4em 0.5em 0.4em;box-sizing: border-box;padding-bottom: 0.4em;background-color: white;}#sk-container-id-3 div.sk-label label {font-family: monospace;font-weight: bold;display: inline-block;line-height: 1.2em;}#sk-container-id-3 div.sk-label-container {text-align: center;}#sk-container-id-3 div.sk-container {/* jupyter's `normalize.less` sets `[hidden] { display: none; }` but bootstrap.min.css set `[hidden] { display: none !important; }` so we also need the `!important` here to be able to override the default hidden behavior on the sphinx rendered scikit-learn.org. See: https://github.com/scikit-learn/scikit-learn/issues/21755 */display: inline-block !important;position: relative;}#sk-container-id-3 div.sk-text-repr-fallback {display: none;}</style><div id=\"sk-container-id-3\" class=\"sk-top-container\"><div class=\"sk-text-repr-fallback\"><pre>KNeighborsClassifier()</pre><b>In a Jupyter environment, please rerun this cell to show the HTML representation or trust the notebook. <br />On GitHub, the HTML representation is unable to render, please try loading this page with nbviewer.org.</b></div><div class=\"sk-container\" hidden><div class=\"sk-item\"><div class=\"sk-estimator sk-toggleable\"><input class=\"sk-toggleable__control sk-hidden--visually\" id=\"sk-estimator-id-3\" type=\"checkbox\" checked><label for=\"sk-estimator-id-3\" class=\"sk-toggleable__label sk-toggleable__label-arrow\">KNeighborsClassifier</label><div class=\"sk-toggleable__content\"><pre>KNeighborsClassifier()</pre></div></div></div></div></div>"
      ],
      "text/plain": [
       "KNeighborsClassifier()"
      ]
     },
     "execution_count": 130,
     "metadata": {},
     "output_type": "execute_result"
    }
   ],
   "source": [
    "knn_normal_model = KNeighborsClassifier()\n",
    "\n",
    "knn_normal_model.fit(x_train, y_train)"
   ]
  },
  {
   "cell_type": "code",
   "execution_count": 131,
   "id": "a52ee9a5-612d-468b-8c6c-df1690349b3d",
   "metadata": {
    "tags": []
   },
   "outputs": [
    {
     "name": "stdout",
     "output_type": "stream",
     "text": [
      "Metrics with Hyperparameter Tuning: Normal\n",
      "Accuracy: 83.37%\n",
      "Precision:67.72%\n",
      "Recall:95.52%\n",
      "F1 Score79.26%\n",
      "Error Rate:16.63%\n"
     ]
    }
   ],
   "source": [
    "knn_y_pred = knn_normal_model.predict(x_test)\n",
    "\n",
    "knn_accuracy = accuracy_score(y_test, knn_y_pred) * 100\n",
    "knn_precision = precision_score(y_test, knn_y_pred,zero_division=1) * 100\n",
    "knn_recall = recall_score(y_test, knn_y_pred) * 100\n",
    "knn_f1 = f1_score(y_test, knn_y_pred) * 100\n",
    "conf_matrix = confusion_matrix(y_test, knn_y_pred)\n",
    "knn_error_rate = ((conf_matrix[0, 1] + conf_matrix[1, 0]) / float(conf_matrix.sum()))*100\n",
    "\n",
    "print(\"Metrics with Hyperparameter Tuning: Normal\")\n",
    "print(\"Accuracy: {:.2f}%\".format(knn_accuracy))\n",
    "print(\"Precision:{:.2f}%\".format(knn_precision))\n",
    "print(\"Recall:{:.2f}%\".format(knn_recall))\n",
    "print(\"F1 Score{:.2f}%\".format(knn_f1))\n",
    "print(\"Error Rate:{:.2f}%\".format(knn_error_rate))"
   ]
  },
  {
   "cell_type": "markdown",
   "id": "7db59b22-42d0-4063-b679-d4bfdb8ca218",
   "metadata": {
    "tags": []
   },
   "source": [
    "<h4>With Hyperparameter</h4>"
   ]
  },
  {
   "cell_type": "code",
   "execution_count": 70,
   "id": "d5402a17-9563-40f3-abfa-5f971551a138",
   "metadata": {
    "tags": []
   },
   "outputs": [],
   "source": [
    "def evaluate_knn_model(parameters, x_train, y_train, x_test, y_test):\n",
    "    knn_model = KNeighborsClassifier(**parameters)\n",
    "    knn_model.fit(x_train, y_train)\n",
    "    y_pred = knn_model.predict(x_test)\n",
    "\n",
    "    accuracy = accuracy_score(y_test, y_pred) * 100\n",
    "    precision = precision_score(y_test, y_pred, zero_division=1) * 100\n",
    "    recall = recall_score(y_test, y_pred) * 100\n",
    "    f1 = f1_score(y_test, y_pred) * 100\n",
    "    conf_matrix = confusion_matrix(y_test, y_pred)\n",
    "    error_rate = ((conf_matrix[0, 1] + conf_matrix[1, 0]) / float(conf_matrix.sum())) * 100\n",
    "\n",
    "    return accuracy, precision, recall, f1, error_rate"
   ]
  },
  {
   "cell_type": "markdown",
   "id": "e657c749-8ca6-4434-8017-f0d86cfb5bfe",
   "metadata": {},
   "source": [
    "<h5>Hyperparameter tuning 1 </h5>"
   ]
  },
  {
   "cell_type": "code",
   "execution_count": 71,
   "id": "3362e923-5931-4aea-b05a-1c8451f34c16",
   "metadata": {
    "tags": []
   },
   "outputs": [
    {
     "name": "stdout",
     "output_type": "stream",
     "text": [
      "Metrics with Hyperparameter Tuning: 9\n",
      "Accuracy: 83.87%\n",
      "Precision: 69.27%\n",
      "Recall: 92.54%\n",
      "F1 Score: 79.23%\n",
      "Error Rate: 16.13%\n"
     ]
    }
   ],
   "source": [
    "knn_parameter_1 = {'n_neighbors': 6, 'weights': 'uniform', 'p': 2}\n",
    "knn_result_1 = evaluate_knn_model(knn_parameter_1, x_train, y_train, x_test, y_test)\n",
    "print(\"Metrics with Hyperparameter Tuning: 9\")\n",
    "print(\"Accuracy: {:.2f}%\".format(knn_result_1[0]))\n",
    "print(\"Precision: {:.2f}%\".format( knn_result_1[1]))\n",
    "print(\"Recall: {:.2f}%\".format(knn_result_1[2]))\n",
    "print(\"F1 Score: {:.2f}%\".format( knn_result_1[3]))\n",
    "print(\"Error Rate: {:.2f}%\".format( knn_result_1[4]))"
   ]
  },
  {
   "cell_type": "markdown",
   "id": "e2d00a8d-3539-4a02-93c9-4715afb6ab50",
   "metadata": {},
   "source": [
    "<h5>Hyperparameter tuning 2 </h5>"
   ]
  },
  {
   "cell_type": "code",
   "execution_count": 72,
   "id": "a1750fd4-5081-4e93-9540-5d568c36c5b0",
   "metadata": {
    "tags": []
   },
   "outputs": [
    {
     "name": "stdout",
     "output_type": "stream",
     "text": [
      "Metrics with Hyperparameter Tuning: 9\n",
      "Accuracy: 73.61%\n",
      "Precision: 55.94%\n",
      "Recall: 97.26%\n",
      "F1 Score: 71.03%\n",
      "Error Rate: 26.39%\n"
     ]
    }
   ],
   "source": [
    "knn_parameter_2 ={'n_neighbors': 10, 'weights': 'distance', 'p': 1}\n",
    "knn_result_2 = evaluate_knn_model(knn_parameter_2, x_train, y_train, x_test, y_test)\n",
    "print(\"Metrics with Hyperparameter Tuning: 2\")\n",
    "print(\"Accuracy: {:.2f}%\".format(knn_result_2[0]))\n",
    "print(\"Precision: {:.2f}%\".format( knn_result_2[1]))\n",
    "print(\"Recall: {:.2f}%\".format(knn_result_2[2]))\n",
    "print(\"F1 Score: {:.2f}%\".format( knn_result_2[3]))\n",
    "print(\"Error Rate: {:.2f}%\".format( knn_result_2[4]))"
   ]
  },
  {
   "cell_type": "markdown",
   "id": "faefc09e-1f18-43f8-80b5-917a2adf353a",
   "metadata": {},
   "source": [
    "<h5>Hyperparameter tuning 3 </h5>"
   ]
  },
  {
   "cell_type": "code",
   "execution_count": 73,
   "id": "0902e9ca-d517-4e9c-9af3-23a91f028eff",
   "metadata": {},
   "outputs": [
    {
     "name": "stdout",
     "output_type": "stream",
     "text": [
      "Metrics with Hyperparameter Tuning: 3\n",
      "Accuracy: 76.84%\n",
      "Precision: 62.06%\n",
      "Recall: 78.11%\n",
      "F1 Score: 69.16%\n",
      "Error Rate: 23.16%\n"
     ]
    }
   ],
   "source": [
    "knn_parameter_3 ={'n_neighbors': 3, 'weights': 'uniform', 'p': 1}\n",
    "knn_result_3 = evaluate_knn_model(knn_parameter_3, x_train, y_train, x_test, y_test)\n",
    "print(\"Metrics with Hyperparameter Tuning: 3\")\n",
    "print(\"Accuracy: {:.2f}%\".format(knn_result_3[0]))\n",
    "print(\"Precision: {:.2f}%\".format( knn_result_3[1]))\n",
    "print(\"Recall: {:.2f}%\".format(knn_result_3[2]))\n",
    "print(\"F1 Score: {:.2f}%\".format( knn_result_3[3]))\n",
    "print(\"Error Rate: {:.2f}%\".format( knn_result_3[4]))"
   ]
  },
  {
   "cell_type": "markdown",
   "id": "048b6d0c-33dc-44ba-8481-edd7235c441d",
   "metadata": {},
   "source": [
    "<h5>Hyperparameter tuning 4 </h5>"
   ]
  },
  {
   "cell_type": "code",
   "execution_count": 75,
   "id": "6447feaf-1c65-471e-a0c4-9b34475d26bd",
   "metadata": {},
   "outputs": [
    {
     "name": "stdout",
     "output_type": "stream",
     "text": [
      "Metrics with Hyperparameter Tuning: 4\n",
      "Accuracy: 79.98%\n",
      "Precision: 63.25%\n",
      "Recall: 95.02%\n",
      "F1 Score: 75.94%\n",
      "Error Rate: 20.02%\n"
     ]
    }
   ],
   "source": [
    "knn_parameter_4 ={'n_neighbors': 15, 'weights': 'distance', 'p': 2}\n",
    "knn_result_4 = evaluate_knn_model(knn_parameter_4, x_train, y_train, x_test, y_test)\n",
    "print(\"Metrics with Hyperparameter Tuning: 4\")\n",
    "print(\"Accuracy: {:.2f}%\".format(knn_result_4[0]))\n",
    "print(\"Precision: {:.2f}%\".format( knn_result_4[1]))\n",
    "print(\"Recall: {:.2f}%\".format(knn_result_4[2]))\n",
    "print(\"F1 Score: {:.2f}%\".format( knn_result_4[3]))\n",
    "print(\"Error Rate: {:.2f}%\".format( knn_result_4[4]))"
   ]
  },
  {
   "cell_type": "markdown",
   "id": "8257577e-ebc1-4bd9-9912-0487a280db0d",
   "metadata": {},
   "source": [
    "<h5>Hyperparameter tuning 5 </h5>"
   ]
  },
  {
   "cell_type": "code",
   "execution_count": 76,
   "id": "ef101af9-6f94-4a89-b304-c0805a63b506",
   "metadata": {},
   "outputs": [
    {
     "name": "stdout",
     "output_type": "stream",
     "text": [
      "Metrics with Hyperparameter Tuning: 5\n",
      "Accuracy: 82.80%\n",
      "Precision: 67.51%\n",
      "Recall: 93.03%\n",
      "F1 Score: 78.24%\n",
      "Error Rate: 17.20%\n"
     ]
    }
   ],
   "source": [
    "knn_parameter_5 ={'n_neighbors': 8, 'weights': 'uniform', 'p': 2}\n",
    "knn_result_5 = evaluate_knn_model(knn_parameter_5, x_train, y_train, x_test, y_test)\n",
    "print(\"Metrics with Hyperparameter Tuning: 5\")\n",
    "print(\"Accuracy: {:.2f}%\".format(knn_result_5[0]))\n",
    "print(\"Precision: {:.2f}%\".format( knn_result_5[1]))\n",
    "print(\"Recall: {:.2f}%\".format(knn_result_5[2]))\n",
    "print(\"F1 Score: {:.2f}%\".format( knn_result_5[3]))\n",
    "print(\"Error Rate: {:.2f}%\".format( knn_result_5[4]))"
   ]
  },
  {
   "cell_type": "markdown",
   "id": "53c462d2-5c2e-4fa8-84f6-471d8a49429f",
   "metadata": {},
   "source": [
    "<h5>Hyperparameter tuning 6 </h5>"
   ]
  },
  {
   "cell_type": "code",
   "execution_count": 77,
   "id": "476b0366-aa13-4f85-8c0b-8888ccebe314",
   "metadata": {},
   "outputs": [
    {
     "name": "stdout",
     "output_type": "stream",
     "text": [
      "Metrics with Hyperparameter Tuning: 6\n",
      "Accuracy: 75.35%\n",
      "Precision: 57.78%\n",
      "Recall: 96.02%\n",
      "F1 Score: 72.15%\n",
      "Error Rate: 24.65%\n"
     ]
    }
   ],
   "source": [
    "knn_parameter_6 = {'n_neighbors': 5, 'weights': 'distance', 'p': 1}\n",
    "knn_result_6 = evaluate_knn_model(knn_parameter_6, x_train, y_train, x_test, y_test)\n",
    "print(\"Metrics with Hyperparameter Tuning: 6\")\n",
    "print(\"Accuracy: {:.2f}%\".format(knn_result_6[0]))\n",
    "print(\"Precision: {:.2f}%\".format( knn_result_6[1]))\n",
    "print(\"Recall: {:.2f}%\".format(knn_result_6[2]))\n",
    "print(\"F1 Score: {:.2f}%\".format( knn_result_6[3]))\n",
    "print(\"Error Rate: {:.2f}%\".format( knn_result_6[4]))"
   ]
  },
  {
   "cell_type": "markdown",
   "id": "0ef32939-9d9d-41fd-b085-8cdbbc3eb789",
   "metadata": {},
   "source": [
    "<h5>Hyperparameter tuning 7 </h5>"
   ]
  },
  {
   "cell_type": "code",
   "execution_count": 78,
   "id": "340df061-13a0-41e2-befe-a8def9e09d6f",
   "metadata": {},
   "outputs": [
    {
     "name": "stdout",
     "output_type": "stream",
     "text": [
      "Metrics with Hyperparameter Tuning: 7\n",
      "Accuracy: 82.05%\n",
      "Precision: 66.20%\n",
      "Recall: 94.03%\n",
      "F1 Score: 77.70%\n",
      "Error Rate: 17.95%\n"
     ]
    }
   ],
   "source": [
    "knn_parameter_7 ={'n_neighbors': 12, 'weights': 'uniform', 'p': 2}\n",
    "knn_result_7 = evaluate_knn_model(knn_parameter_7, x_train, y_train, x_test, y_test)\n",
    "print(\"Metrics with Hyperparameter Tuning: 7\")\n",
    "print(\"Accuracy: {:.2f}%\".format(knn_result_7[0]))\n",
    "print(\"Precision: {:.2f}%\".format( knn_result_7[1]))\n",
    "print(\"Recall: {:.2f}%\".format(knn_result_7[2]))\n",
    "print(\"F1 Score: {:.2f}%\".format( knn_result_7[3]))\n",
    "print(\"Error Rate: {:.2f}%\".format( knn_result_7[4]))"
   ]
  },
  {
   "cell_type": "markdown",
   "id": "fdd3aa3c-4d9e-453a-b8be-b41046beafd6",
   "metadata": {},
   "source": [
    "<h5>Hyperparameter tuning 8 </h5>"
   ]
  },
  {
   "cell_type": "code",
   "execution_count": 79,
   "id": "a7fb46f8-7d2d-41b8-9d73-2b493ea8cf17",
   "metadata": {},
   "outputs": [
    {
     "name": "stdout",
     "output_type": "stream",
     "text": [
      "Metrics with Hyperparameter Tuning: 8\n",
      "Accuracy: 73.95%\n",
      "Precision: 56.24%\n",
      "Recall: 97.51%\n",
      "F1 Score: 71.34%\n",
      "Error Rate: 26.05%\n"
     ]
    }
   ],
   "source": [
    "knn_parameter_8 ={'n_neighbors': 7, 'weights': 'distance', 'p': 1}\n",
    "knn_result_8 = evaluate_knn_model(knn_parameter_8, x_train, y_train, x_test, y_test)\n",
    "print(\"Metrics with Hyperparameter Tuning: 8\")\n",
    "print(\"Accuracy: {:.2f}%\".format(knn_result_8[0]))\n",
    "print(\"Precision: {:.2f}%\".format( knn_result_8[1]))\n",
    "print(\"Recall: {:.2f}%\".format(knn_result_8[2]))\n",
    "print(\"F1 Score: {:.2f}%\".format( knn_result_8[3]))\n",
    "print(\"Error Rate: {:.2f}%\".format( knn_result_8[4]))"
   ]
  },
  {
   "cell_type": "markdown",
   "id": "a3b0795a-daad-4e52-bacb-342294eed4b3",
   "metadata": {},
   "source": [
    "<h5>Hyperparameter tuning 9 </h5>"
   ]
  },
  {
   "cell_type": "code",
   "execution_count": 80,
   "id": "bc0088f3-624d-4a8c-9e54-a8ea565aff77",
   "metadata": {},
   "outputs": [
    {
     "name": "stdout",
     "output_type": "stream",
     "text": [
      "Metrics with Hyperparameter Tuning: 9\n",
      "Accuracy: 76.34%\n",
      "Precision: 59.21%\n",
      "Recall: 92.79%\n",
      "F1 Score: 72.29%\n",
      "Error Rate: 23.66%\n"
     ]
    }
   ],
   "source": [
    "knn_parameter_9 ={'n_neighbors': 6, 'weights': 'uniform', 'p': 1}\n",
    "knn_result_9 = evaluate_knn_model(knn_parameter_9, x_train, y_train, x_test, y_test)\n",
    "print(\"Metrics with Hyperparameter Tuning: 9\")\n",
    "print(\"Accuracy: {:.2f}%\".format(knn_result_9[0]))\n",
    "print(\"Precision: {:.2f}%\".format( knn_result_9[1]))\n",
    "print(\"Recall: {:.2f}%\".format(knn_result_9[2]))\n",
    "print(\"F1 Score: {:.2f}%\".format( knn_result_9[3]))\n",
    "print(\"Error Rate: {:.2f}%\".format( knn_result_9[4]))"
   ]
  },
  {
   "cell_type": "markdown",
   "id": "34d27634-32c3-4aba-83e4-06a9cd579258",
   "metadata": {},
   "source": [
    "<h5>Hyperparameter tuning 10 </h5>"
   ]
  },
  {
   "cell_type": "code",
   "execution_count": 81,
   "id": "504d5e06-7f9e-4b20-be53-58359c6264a9",
   "metadata": {},
   "outputs": [
    {
     "name": "stdout",
     "output_type": "stream",
     "text": [
      "Metrics with Hyperparameter Tuning: 10\n",
      "Accuracy: 78.74%\n",
      "Precision: 61.75%\n",
      "Recall: 94.78%\n",
      "F1 Score: 74.78%\n",
      "Error Rate: 21.26%\n"
     ]
    }
   ],
   "source": [
    "knn_parameter_10 ={'n_neighbors': 20, 'weights': 'distance', 'p': 2}\n",
    "knn_result_10 = evaluate_knn_model(knn_parameter_10, x_train, y_train, x_test, y_test)\n",
    "print(\"Metrics with Hyperparameter Tuning: 10\")\n",
    "print(\"Accuracy: {:.2f}%\".format(knn_result_10[0]))\n",
    "print(\"Precision: {:.2f}%\".format( knn_result_10[1]))\n",
    "print(\"Recall: {:.2f}%\".format(knn_result_10[2]))\n",
    "print(\"F1 Score: {:.2f}%\".format( knn_result_10[3]))\n",
    "print(\"Error Rate: {:.2f}%\".format( knn_result_10[4]))"
   ]
  },
  {
   "cell_type": "markdown",
   "id": "7f2d824e-896d-4962-814a-04b4865df1a6",
   "metadata": {},
   "source": [
    "<h4>KNN Accuracy Evaluation</h4>"
   ]
  },
  {
   "cell_type": "code",
   "execution_count": 133,
   "id": "b9212e19-e46f-4f22-a0bd-5ace43f54b63",
   "metadata": {
    "tags": []
   },
   "outputs": [
    {
     "data": {
      "text/plain": [
       "([0, 1, 2, 3, 4, 5, 6, 7, 8, 9, 10],\n",
       " [Text(0, 0, 'No-Hyperparameter'),\n",
       "  Text(1, 0, 'Hyperparameter - 1'),\n",
       "  Text(2, 0, 'Hyperparameter - 2'),\n",
       "  Text(3, 0, 'Hyperparameter - 3'),\n",
       "  Text(4, 0, 'Hyperparameter - 4'),\n",
       "  Text(5, 0, 'Hyperparameter - 5'),\n",
       "  Text(6, 0, 'Hyperparameter - 6'),\n",
       "  Text(7, 0, 'Hyperparameter - 7'),\n",
       "  Text(8, 0, 'Hyperparameter - 8'),\n",
       "  Text(9, 0, 'Hyperparameter - 9'),\n",
       "  Text(10, 0, 'Hyperparameter - 10')])"
      ]
     },
     "execution_count": 133,
     "metadata": {},
     "output_type": "execute_result"
    },
    {
     "data": {
      "image/png": "[encoded data removed]",
      "text/plain": [
       "<Figure size 2000x500 with 1 Axes>"
      ]
     },
     "metadata": {},
     "output_type": "display_data"
    }
   ],
   "source": [
    "%matplotlib inline \n",
    "\n",
    "\n",
    "Headings = ['No-Hyperparameter','Hyperparameter - 1','Hyperparameter - 2',\n",
    "            'Hyperparameter - 3','Hyperparameter - 4','Hyperparameter - 5',\n",
    "            'Hyperparameter - 6','Hyperparameter - 7','Hyperparameter - 8',\n",
    "            'Hyperparameter - 9','Hyperparameter - 10']\n",
    "Heading_values = [knn_accuracy, knn_result_1[0],knn_result_2[0],\n",
    "                  knn_result_3[0],knn_result_4[0],knn_result_5[0],\n",
    "                  knn_result_6[0],knn_result_7[0],knn_result_8[0],\n",
    "                  knn_result_9[0],knn_result_10[0]]\n",
    "max_value = Heading_values.index(max(Heading_values))\n",
    "plt.figure(figsize=(20, 5))\n",
    "plt.title('KNN accuracy with different hyperparameters')\n",
    "bars = plt.bar(Headings, Heading_values)\n",
    "bars[max_value].set_color('purple')\n",
    "for i, v in enumerate(Heading_values):\n",
    "    plt.text(i, v + 1, str(round(v, 2)), ha='center', \n",
    "             va='bottom', fontweight='bold', color='black')\n",
    "plt.xticks(rotation=\"vertical\")\n",
    "\n"
   ]
  },
  {
   "cell_type": "markdown",
   "id": "f65e2c6d-8b95-40f3-a15f-e8362e02205c",
   "metadata": {
    "tags": []
   },
   "source": [
    "<h3>Naive Bayes</h3>"
   ]
  },
  {
   "cell_type": "markdown",
   "id": "f4a542a8-6d95-4058-a613-e5b09650c55d",
   "metadata": {},
   "source": [
    "We will not be doing any hyperparameter tuning in this algorithm"
   ]
  },
  {
   "cell_type": "code",
   "execution_count": 82,
   "id": "3a26573d-5526-4cb1-954c-c91c5710f4bb",
   "metadata": {
    "tags": []
   },
   "outputs": [
    {
     "data": {
      "text/html": [
       "<style>#sk-container-id-1 {color: black;background-color: white;}#sk-container-id-1 pre{padding: 0;}#sk-container-id-1 div.sk-toggleable {background-color: white;}#sk-container-id-1 label.sk-toggleable__label {cursor: pointer;display: block;width: 100%;margin-bottom: 0;padding: 0.3em;box-sizing: border-box;text-align: center;}#sk-container-id-1 label.sk-toggleable__label-arrow:before {content: \"▸\";float: left;margin-right: 0.25em;color: #696969;}#sk-container-id-1 label.sk-toggleable__label-arrow:hover:before {color: black;}#sk-container-id-1 div.sk-estimator:hover label.sk-toggleable__label-arrow:before {color: black;}#sk-container-id-1 div.sk-toggleable__content {max-height: 0;max-width: 0;overflow: hidden;text-align: left;background-color: #f0f8ff;}#sk-container-id-1 div.sk-toggleable__content pre {margin: 0.2em;color: black;border-radius: 0.25em;background-color: #f0f8ff;}#sk-container-id-1 input.sk-toggleable__control:checked~div.sk-toggleable__content {max-height: 200px;max-width: 100%;overflow: auto;}#sk-container-id-1 input.sk-toggleable__control:checked~label.sk-toggleable__label-arrow:before {content: \"▾\";}#sk-container-id-1 div.sk-estimator input.sk-toggleable__control:checked~label.sk-toggleable__label {background-color: #d4ebff;}#sk-container-id-1 div.sk-label input.sk-toggleable__control:checked~label.sk-toggleable__label {background-color: #d4ebff;}#sk-container-id-1 input.sk-hidden--visually {border: 0;clip: rect(1px 1px 1px 1px);clip: rect(1px, 1px, 1px, 1px);height: 1px;margin: -1px;overflow: hidden;padding: 0;position: absolute;width: 1px;}#sk-container-id-1 div.sk-estimator {font-family: monospace;background-color: #f0f8ff;border: 1px dotted black;border-radius: 0.25em;box-sizing: border-box;margin-bottom: 0.5em;}#sk-container-id-1 div.sk-estimator:hover {background-color: #d4ebff;}#sk-container-id-1 div.sk-parallel-item::after {content: \"\";width: 100%;border-bottom: 1px solid gray;flex-grow: 1;}#sk-container-id-1 div.sk-label:hover label.sk-toggleable__label {background-color: #d4ebff;}#sk-container-id-1 div.sk-serial::before {content: \"\";position: absolute;border-left: 1px solid gray;box-sizing: border-box;top: 0;bottom: 0;left: 50%;z-index: 0;}#sk-container-id-1 div.sk-serial {display: flex;flex-direction: column;align-items: center;background-color: white;padding-right: 0.2em;padding-left: 0.2em;position: relative;}#sk-container-id-1 div.sk-item {position: relative;z-index: 1;}#sk-container-id-1 div.sk-parallel {display: flex;align-items: stretch;justify-content: center;background-color: white;position: relative;}#sk-container-id-1 div.sk-item::before, #sk-container-id-1 div.sk-parallel-item::before {content: \"\";position: absolute;border-left: 1px solid gray;box-sizing: border-box;top: 0;bottom: 0;left: 50%;z-index: -1;}#sk-container-id-1 div.sk-parallel-item {display: flex;flex-direction: column;z-index: 1;position: relative;background-color: white;}#sk-container-id-1 div.sk-parallel-item:first-child::after {align-self: flex-end;width: 50%;}#sk-container-id-1 div.sk-parallel-item:last-child::after {align-self: flex-start;width: 50%;}#sk-container-id-1 div.sk-parallel-item:only-child::after {width: 0;}#sk-container-id-1 div.sk-dashed-wrapped {border: 1px dashed gray;margin: 0 0.4em 0.5em 0.4em;box-sizing: border-box;padding-bottom: 0.4em;background-color: white;}#sk-container-id-1 div.sk-label label {font-family: monospace;font-weight: bold;display: inline-block;line-height: 1.2em;}#sk-container-id-1 div.sk-label-container {text-align: center;}#sk-container-id-1 div.sk-container {/* jupyter's `normalize.less` sets `[hidden] { display: none; }` but bootstrap.min.css set `[hidden] { display: none !important; }` so we also need the `!important` here to be able to override the default hidden behavior on the sphinx rendered scikit-learn.org. See: https://github.com/scikit-learn/scikit-learn/issues/21755 */display: inline-block !important;position: relative;}#sk-container-id-1 div.sk-text-repr-fallback {display: none;}</style><div id=\"sk-container-id-1\" class=\"sk-top-container\"><div class=\"sk-text-repr-fallback\"><pre>GaussianNB()</pre><b>In a Jupyter environment, please rerun this cell to show the HTML representation or trust the notebook. <br />On GitHub, the HTML representation is unable to render, please try loading this page with nbviewer.org.</b></div><div class=\"sk-container\" hidden><div class=\"sk-item\"><div class=\"sk-estimator sk-toggleable\"><input class=\"sk-toggleable__control sk-hidden--visually\" id=\"sk-estimator-id-1\" type=\"checkbox\" checked><label for=\"sk-estimator-id-1\" class=\"sk-toggleable__label sk-toggleable__label-arrow\">GaussianNB</label><div class=\"sk-toggleable__content\"><pre>GaussianNB()</pre></div></div></div></div></div>"
      ],
      "text/plain": [
       "GaussianNB()"
      ]
     },
     "execution_count": 82,
     "metadata": {},
     "output_type": "execute_result"
    }
   ],
   "source": [
    "NB = GaussianNB()\n",
    "NB.fit(x_train,y_train)"
   ]
  },
  {
   "cell_type": "code",
   "execution_count": 83,
   "id": "244610fd-ac67-48fa-bdd9-276b322f46a6",
   "metadata": {
    "tags": []
   },
   "outputs": [
    {
     "name": "stdout",
     "output_type": "stream",
     "text": [
      "Metric:\n",
      "Accuracy: 92.80%\n",
      "Precision:88.89%\n",
      "Recall:89.55%\n",
      "F1 Score89.22%\n",
      "Error Rate:7.20%\n"
     ]
    }
   ],
   "source": [
    "nb_y_pred = NB.predict(x_test)\n",
    "nb_accuracy = accuracy_score(y_test, nb_y_pred) * 100\n",
    "nb_precision = precision_score(y_test, nb_y_pred,zero_division=1) * 100\n",
    "nb_recall = recall_score(y_test, nb_y_pred) * 100\n",
    "nb_f1 = f1_score(y_test, nb_y_pred) * 100\n",
    "conf_matrix = confusion_matrix(y_test, nb_y_pred)\n",
    "nb_error_rate = ((conf_matrix[0, 1] + conf_matrix[1, 0]) / float(conf_matrix.sum()))*100\n",
    "\n",
    "print(\"Metric:\")\n",
    "print(\"Accuracy: {:.2f}%\".format(nb_accuracy))\n",
    "print(\"Precision:{:.2f}%\".format(nb_precision))\n",
    "print(\"Recall:{:.2f}%\".format(nb_recall))\n",
    "print(\"F1 Score{:.2f}%\".format(nb_f1))\n",
    "print(\"Error Rate:{:.2f}%\".format(nb_error_rate))"
   ]
  },
  {
   "cell_type": "markdown",
   "id": "9a65ccc7-24dd-4e4a-b397-5f82566d985b",
   "metadata": {},
   "source": [
    "<h3>Comparison of all highest accuracy from three models</h3>"
   ]
  },
  {
   "cell_type": "code",
   "execution_count": 135,
   "id": "ba71c67e-bce3-44e1-807a-2c06da3f3fd8",
   "metadata": {
    "tags": []
   },
   "outputs": [
    {
     "data": {
      "text/plain": [
       "([0, 1, 2], [Text(0, 0, 'SVM'), Text(1, 0, 'KNN'), Text(2, 0, 'Naive Bayes')])"
      ]
     },
     "execution_count": 135,
     "metadata": {},
     "output_type": "execute_result"
    },
    {
     "data": {
      "image/png": "[encoded data removed]",
      "text/plain": [
       "<Figure size 2000x500 with 1 Axes>"
      ]
     },
     "metadata": {},
     "output_type": "display_data"
    }
   ],
   "source": [
    "%matplotlib inline \n",
    "\n",
    "\n",
    "Headings = ['SVM','KNN','Naive Bayes']\n",
    "Heading_values = [result_1[0], knn_result_1[0],nb_accuracy]\n",
    "max_value = Heading_values.index(max(Heading_values))\n",
    "plt.figure(figsize=(20, 5))\n",
    "plt.title('Accuracy Comparison of different models')\n",
    "bars = plt.bar(Headings, Heading_values)\n",
    "bars[max_value].set_color('purple')\n",
    "for i, v in enumerate(Heading_values):\n",
    "    plt.text(i, v + 1, str(round(v, 2)), ha='center', \n",
    "             va='bottom', fontweight='bold', color='black')\n",
    "plt.xticks(rotation=\"vertical\")\n"
   ]
  },
  {
   "cell_type": "code",
   "execution_count": null,
   "id": "482151de-d0d5-48ac-a764-647443b889de",
   "metadata": {},
   "outputs": [],
   "source": []
  }
 ],
 "metadata": {
  "kernelspec": {
   "display_name": "Python 3 (ipykernel)",
   "language": "python",
   "name": "python3"
  },
  "language_info": {
   "codemirror_mode": {
    "name": "ipython",
    "version": 3
   },
   "file_extension": ".py",
   "mimetype": "text/x-python",
   "name": "python",
   "nbconvert_exporter": "python",
   "pygments_lexer": "ipython3",
   "version": "3.11.3"
  },
  "toc-showcode": true
 },
 "nbformat": 4,
 "nbformat_minor": 5
}
